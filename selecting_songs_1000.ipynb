{
  "nbformat": 4,
  "nbformat_minor": 0,
  "metadata": {
    "colab": {
      "name": "selecting_songs_1000.ipynb",
      "provenance": [],
      "collapsed_sections": [],
      "include_colab_link": true
    },
    "kernelspec": {
      "name": "python3",
      "display_name": "Python 3"
    },
    "language_info": {
      "name": "python"
    }
  },
  "cells": [
    {
      "cell_type": "markdown",
      "metadata": {
        "id": "view-in-github",
        "colab_type": "text"
      },
      "source": [
        "<a href=\"https://colab.research.google.com/github/aslam7861/Machine_Learning_Project/blob/main/selecting_songs_1000.ipynb\" target=\"_parent\"><img src=\"https://colab.research.google.com/assets/colab-badge.svg\" alt=\"Open In Colab\"/></a>"
      ]
    },
    {
      "cell_type": "code",
      "execution_count": 254,
      "metadata": {
        "id": "bQ5r8Fos3RgY"
      },
      "outputs": [],
      "source": [
        "import pandas as pd\n",
        "import matplotlib.pyplot as plt\n",
        "import seaborn as sns\n",
        "from sklearn.preprocessing import MinMaxScaler\n",
        "from sklearn.preprocessing import StandardScaler\n",
        "from sklearn.preprocessing import RobustScaler\n",
        "from sklearn.preprocessing import QuantileTransformer"
      ]
    },
    {
      "cell_type": "code",
      "source": [
        "moosic=pd.read_csv('https://raw.githubusercontent.com/aslam7861/Machine_Learning_Project/main/df_audio_features_1000')"
      ],
      "metadata": {
        "id": "zSPU-TkY3WWk"
      },
      "execution_count": 255,
      "outputs": []
    },
    {
      "cell_type": "code",
      "source": [
        "df=moosic\n",
        "from sklearn.metrics import silhouette_score\n",
        "from sklearn.cluster import KMeans"
      ],
      "metadata": {
        "id": "jyVY5Fd43YX8"
      },
      "execution_count": 256,
      "outputs": []
    },
    {
      "cell_type": "code",
      "source": [
        "import numpy as np"
      ],
      "metadata": {
        "id": "Q0nLBVKU3bTK"
      },
      "execution_count": 257,
      "outputs": []
    },
    {
      "cell_type": "code",
      "source": [
        "# num_songs=20\n",
        "# max_n_cluster=4\n",
        "# features = ['danceability', 'acousticness']\n",
        "def selective_songs(max_n_cluster, df, features, num_songs, distance):\n",
        "    ciel_nums =num_songs#  int(np.ceil(num_songs/max_n_cluster))\n",
        "    #df=df[features]\n",
        "    df_f=df[features]\n",
        "    df_norm=MinMaxScaler().fit_transform(df_f)\n",
        "    kmeans=KMeans(n_clusters=4)\n",
        "    kmeans.fit(df_norm)\n",
        "    cl_pos= pd.DataFrame(kmeans.cluster_centers_)\n",
        "    cl_pos.columns=df_f.columns\n",
        "    df_f['cluster']=kmeans.labels_\n",
        "    df['cluster']=kmeans.labels_\n",
        "    cl_pos['cluster']= cl_pos.index\n",
        "    dists=[]\n",
        "    for i in range(df_f.shape[0]):\n",
        "        cent = int(df_f.iloc[i]['cluster'])\n",
        "        if distance == 'euclidean':\n",
        "            dists.append(np.sqrt(  sum([a**2 for a in (df_f.iloc[i]-cl_pos.iloc[cent])] )))\n",
        "        else:\n",
        "            dists.append(np.sqrt(  sum([abs(a) for a in (df_f.iloc[i]-cl_pos.iloc[cent])] )))\n",
        "\n",
        "    df_f['euc_dist']=dists\n",
        "    df['euc_dist']=dists\n",
        "    # songs=[]\n",
        "    # for i in range(max_n_cluster):\n",
        "    #     df_cluster=df.sort_values('euc_dist').groupby('cluster')\n",
        "    #     songs.append(df_cluster[df_cluster['cluster']==i].head(num_songs) )\n",
        "    songs=df.sort_values('euc_dist').groupby('cluster').head(ciel_nums)\n",
        "    #songs = select_df[:num_songs]\n",
        "    return songs, cl_pos"
      ],
      "metadata": {
        "id": "1Nvl2lGq3gdi"
      },
      "execution_count": 258,
      "outputs": []
    },
    {
      "cell_type": "code",
      "source": [
        "songs,cl_pos=selective_songs(4,moosic,['danceability', 'acousticness', 'energy'], 20, 'euclidean')"
      ],
      "metadata": {
        "colab": {
          "base_uri": "https://localhost:8080/"
        },
        "id": "mjF46Cuk3qQv",
        "outputId": "32e12ece-f4b6-4eb7-c38e-c7cb445b4737"
      },
      "execution_count": 259,
      "outputs": [
        {
          "output_type": "stream",
          "name": "stderr",
          "text": [
            "/usr/local/lib/python3.7/dist-packages/ipykernel_launcher.py:13: SettingWithCopyWarning: \n",
            "A value is trying to be set on a copy of a slice from a DataFrame.\n",
            "Try using .loc[row_indexer,col_indexer] = value instead\n",
            "\n",
            "See the caveats in the documentation: https://pandas.pydata.org/pandas-docs/stable/user_guide/indexing.html#returning-a-view-versus-a-copy\n",
            "  del sys.path[0]\n",
            "/usr/local/lib/python3.7/dist-packages/ipykernel_launcher.py:24: SettingWithCopyWarning: \n",
            "A value is trying to be set on a copy of a slice from a DataFrame.\n",
            "Try using .loc[row_indexer,col_indexer] = value instead\n",
            "\n",
            "See the caveats in the documentation: https://pandas.pydata.org/pandas-docs/stable/user_guide/indexing.html#returning-a-view-versus-a-copy\n"
          ]
        }
      ]
    },
    {
      "cell_type": "code",
      "source": [
        "songs"
      ],
      "metadata": {
        "colab": {
          "base_uri": "https://localhost:8080/",
          "height": 708
        },
        "id": "su3VFB0nAgWS",
        "outputId": "396fb320-c403-445f-bb6f-2758223e4ee4"
      },
      "execution_count": 260,
      "outputs": [
        {
          "output_type": "execute_result",
          "data": {
            "text/plain": [
              "                                                   name           artist  \\\n",
              "1393  Symphony No. 6 in A Minor, \"Tragic\": I. Allegr...    Gustav Mahler   \n",
              "1196                                         LA CANCIÓN         J Balvin   \n",
              "346                                          The Middle             Zedd   \n",
              "868                              Blues Inn - Remastered    Jackie McLean   \n",
              "1202                                        Traicionera  Sebastian Yatra   \n",
              "...                                                 ...              ...   \n",
              "799                                      Alone Together        Peggy Lee   \n",
              "120                                 Venus - Bonus Track   Frankie Avalon   \n",
              "878                                         Two Not One       Lee Konitz   \n",
              "284                                A Horse with No Name          America   \n",
              "361                                   Someone You Loved    Lewis Capaldi   \n",
              "\n",
              "      danceability  energy  key  loudness  mode  speechiness  acousticness  \\\n",
              "1393         0.248   0.162   10   -18.968     1       0.0380         0.925   \n",
              "1196         0.754   0.646    7    -5.795     1       0.3170         0.152   \n",
              "346          0.753   0.657    7    -3.061     1       0.0449         0.171   \n",
              "868          0.583   0.461    5    -9.580     0       0.0482         0.668   \n",
              "1202         0.775   0.679   11    -4.985     1       0.0465         0.147   \n",
              "...            ...     ...  ...       ...   ...          ...           ...   \n",
              "799          0.589   0.386    5    -8.013     0       0.0441         0.750   \n",
              "120          0.526   0.488   10   -12.645     1       0.0296         0.601   \n",
              "878          0.624   0.383    8   -10.561     1       0.0633         0.627   \n",
              "284          0.654   0.506   11   -17.180     0       0.0535         0.686   \n",
              "361          0.501   0.405    1    -5.679     1       0.0319         0.751   \n",
              "\n",
              "      instrumentalness  liveness  valence    tempo  type  duration_ms  \\\n",
              "1393          0.785000    0.0794   0.0775  124.654   NaN      1382387   \n",
              "1196          0.000018    0.1080   0.4290  176.089   NaN       242573   \n",
              "346           0.000000    0.1120   0.4370  107.010   NaN       184732   \n",
              "868           0.170000    0.1620   0.5160  131.878   NaN       545347   \n",
              "1202          0.000000    0.1550   0.6740   91.000   NaN       229387   \n",
              "...                ...       ...      ...      ...   ...          ...   \n",
              "799           0.000000    0.1500   0.5180  142.371   NaN       127800   \n",
              "120           0.000013    0.0940   0.7180  115.194   NaN       141987   \n",
              "878           0.000005    0.0963   0.6740  117.526   NaN       331267   \n",
              "284           0.015500    0.1550   0.8310  123.179   NaN       252240   \n",
              "361           0.000000    0.1050   0.4460  109.891   NaN       182161   \n",
              "\n",
              "      time_signature                      id  \\\n",
              "1393               4  0jRYO7vBGrMMyq0AZC2TkP   \n",
              "1196               4  0fea68AdmYNygeTGI4RC18   \n",
              "346                4  09IStsImFySgyp0pIQdqAc   \n",
              "868                4  7Kwi4xmgY4qQwOhBe0zsbh   \n",
              "1202               4  4Ft0391aLVNtCPPseh98lp   \n",
              "...              ...                     ...   \n",
              "799                4  47xU4Sm1RWZgRgugWPFxzz   \n",
              "120                4  0qDShcc7oY6M8OFaDXHOZG   \n",
              "878                4  3bYBPyLGsa1unDrVaNzN4y   \n",
              "284                4  54eZmuggBFJbV7k248bTTt   \n",
              "361                4  7qEHsqek33rTcFNT9PFqLf   \n",
              "\n",
              "                                                   html  cluster  euc_dist  \n",
              "1393  https://open.spotify.com/track/0jRYO7vBGrMMyq0...        0  0.018610  \n",
              "1196  https://open.spotify.com/track/0fea68AdmYNygeT...        3  0.022164  \n",
              "346   https://open.spotify.com/track/09IStsImFySgyp0...        3  0.022429  \n",
              "868   https://open.spotify.com/track/7Kwi4xmgY4qQwOh...        2  0.024904  \n",
              "1202  https://open.spotify.com/track/4Ft0391aLVNtCPP...        3  0.026799  \n",
              "...                                                 ...      ...       ...  \n",
              "799   https://open.spotify.com/track/47xU4Sm1RWZgRgu...        2  0.095605  \n",
              "120   https://open.spotify.com/track/0qDShcc7oY6M8OF...        2  0.098455  \n",
              "878   https://open.spotify.com/track/3bYBPyLGsa1unDr...        2  0.103943  \n",
              "284   https://open.spotify.com/track/54eZmuggBFJbV7k...        2  0.104580  \n",
              "361   https://open.spotify.com/track/7qEHsqek33rTcFN...        2  0.104638  \n",
              "\n",
              "[80 rows x 20 columns]"
            ],
            "text/html": [
              "\n",
              "  <div id=\"df-c5ff42e8-0fda-463f-b761-ee63d5258a87\">\n",
              "    <div class=\"colab-df-container\">\n",
              "      <div>\n",
              "<style scoped>\n",
              "    .dataframe tbody tr th:only-of-type {\n",
              "        vertical-align: middle;\n",
              "    }\n",
              "\n",
              "    .dataframe tbody tr th {\n",
              "        vertical-align: top;\n",
              "    }\n",
              "\n",
              "    .dataframe thead th {\n",
              "        text-align: right;\n",
              "    }\n",
              "</style>\n",
              "<table border=\"1\" class=\"dataframe\">\n",
              "  <thead>\n",
              "    <tr style=\"text-align: right;\">\n",
              "      <th></th>\n",
              "      <th>name</th>\n",
              "      <th>artist</th>\n",
              "      <th>danceability</th>\n",
              "      <th>energy</th>\n",
              "      <th>key</th>\n",
              "      <th>loudness</th>\n",
              "      <th>mode</th>\n",
              "      <th>speechiness</th>\n",
              "      <th>acousticness</th>\n",
              "      <th>instrumentalness</th>\n",
              "      <th>liveness</th>\n",
              "      <th>valence</th>\n",
              "      <th>tempo</th>\n",
              "      <th>type</th>\n",
              "      <th>duration_ms</th>\n",
              "      <th>time_signature</th>\n",
              "      <th>id</th>\n",
              "      <th>html</th>\n",
              "      <th>cluster</th>\n",
              "      <th>euc_dist</th>\n",
              "    </tr>\n",
              "  </thead>\n",
              "  <tbody>\n",
              "    <tr>\n",
              "      <th>1393</th>\n",
              "      <td>Symphony No. 6 in A Minor, \"Tragic\": I. Allegr...</td>\n",
              "      <td>Gustav Mahler</td>\n",
              "      <td>0.248</td>\n",
              "      <td>0.162</td>\n",
              "      <td>10</td>\n",
              "      <td>-18.968</td>\n",
              "      <td>1</td>\n",
              "      <td>0.0380</td>\n",
              "      <td>0.925</td>\n",
              "      <td>0.785000</td>\n",
              "      <td>0.0794</td>\n",
              "      <td>0.0775</td>\n",
              "      <td>124.654</td>\n",
              "      <td>NaN</td>\n",
              "      <td>1382387</td>\n",
              "      <td>4</td>\n",
              "      <td>0jRYO7vBGrMMyq0AZC2TkP</td>\n",
              "      <td>https://open.spotify.com/track/0jRYO7vBGrMMyq0...</td>\n",
              "      <td>0</td>\n",
              "      <td>0.018610</td>\n",
              "    </tr>\n",
              "    <tr>\n",
              "      <th>1196</th>\n",
              "      <td>LA CANCIÓN</td>\n",
              "      <td>J Balvin</td>\n",
              "      <td>0.754</td>\n",
              "      <td>0.646</td>\n",
              "      <td>7</td>\n",
              "      <td>-5.795</td>\n",
              "      <td>1</td>\n",
              "      <td>0.3170</td>\n",
              "      <td>0.152</td>\n",
              "      <td>0.000018</td>\n",
              "      <td>0.1080</td>\n",
              "      <td>0.4290</td>\n",
              "      <td>176.089</td>\n",
              "      <td>NaN</td>\n",
              "      <td>242573</td>\n",
              "      <td>4</td>\n",
              "      <td>0fea68AdmYNygeTGI4RC18</td>\n",
              "      <td>https://open.spotify.com/track/0fea68AdmYNygeT...</td>\n",
              "      <td>3</td>\n",
              "      <td>0.022164</td>\n",
              "    </tr>\n",
              "    <tr>\n",
              "      <th>346</th>\n",
              "      <td>The Middle</td>\n",
              "      <td>Zedd</td>\n",
              "      <td>0.753</td>\n",
              "      <td>0.657</td>\n",
              "      <td>7</td>\n",
              "      <td>-3.061</td>\n",
              "      <td>1</td>\n",
              "      <td>0.0449</td>\n",
              "      <td>0.171</td>\n",
              "      <td>0.000000</td>\n",
              "      <td>0.1120</td>\n",
              "      <td>0.4370</td>\n",
              "      <td>107.010</td>\n",
              "      <td>NaN</td>\n",
              "      <td>184732</td>\n",
              "      <td>4</td>\n",
              "      <td>09IStsImFySgyp0pIQdqAc</td>\n",
              "      <td>https://open.spotify.com/track/09IStsImFySgyp0...</td>\n",
              "      <td>3</td>\n",
              "      <td>0.022429</td>\n",
              "    </tr>\n",
              "    <tr>\n",
              "      <th>868</th>\n",
              "      <td>Blues Inn - Remastered</td>\n",
              "      <td>Jackie McLean</td>\n",
              "      <td>0.583</td>\n",
              "      <td>0.461</td>\n",
              "      <td>5</td>\n",
              "      <td>-9.580</td>\n",
              "      <td>0</td>\n",
              "      <td>0.0482</td>\n",
              "      <td>0.668</td>\n",
              "      <td>0.170000</td>\n",
              "      <td>0.1620</td>\n",
              "      <td>0.5160</td>\n",
              "      <td>131.878</td>\n",
              "      <td>NaN</td>\n",
              "      <td>545347</td>\n",
              "      <td>4</td>\n",
              "      <td>7Kwi4xmgY4qQwOhBe0zsbh</td>\n",
              "      <td>https://open.spotify.com/track/7Kwi4xmgY4qQwOh...</td>\n",
              "      <td>2</td>\n",
              "      <td>0.024904</td>\n",
              "    </tr>\n",
              "    <tr>\n",
              "      <th>1202</th>\n",
              "      <td>Traicionera</td>\n",
              "      <td>Sebastian Yatra</td>\n",
              "      <td>0.775</td>\n",
              "      <td>0.679</td>\n",
              "      <td>11</td>\n",
              "      <td>-4.985</td>\n",
              "      <td>1</td>\n",
              "      <td>0.0465</td>\n",
              "      <td>0.147</td>\n",
              "      <td>0.000000</td>\n",
              "      <td>0.1550</td>\n",
              "      <td>0.6740</td>\n",
              "      <td>91.000</td>\n",
              "      <td>NaN</td>\n",
              "      <td>229387</td>\n",
              "      <td>4</td>\n",
              "      <td>4Ft0391aLVNtCPPseh98lp</td>\n",
              "      <td>https://open.spotify.com/track/4Ft0391aLVNtCPP...</td>\n",
              "      <td>3</td>\n",
              "      <td>0.026799</td>\n",
              "    </tr>\n",
              "    <tr>\n",
              "      <th>...</th>\n",
              "      <td>...</td>\n",
              "      <td>...</td>\n",
              "      <td>...</td>\n",
              "      <td>...</td>\n",
              "      <td>...</td>\n",
              "      <td>...</td>\n",
              "      <td>...</td>\n",
              "      <td>...</td>\n",
              "      <td>...</td>\n",
              "      <td>...</td>\n",
              "      <td>...</td>\n",
              "      <td>...</td>\n",
              "      <td>...</td>\n",
              "      <td>...</td>\n",
              "      <td>...</td>\n",
              "      <td>...</td>\n",
              "      <td>...</td>\n",
              "      <td>...</td>\n",
              "      <td>...</td>\n",
              "      <td>...</td>\n",
              "    </tr>\n",
              "    <tr>\n",
              "      <th>799</th>\n",
              "      <td>Alone Together</td>\n",
              "      <td>Peggy Lee</td>\n",
              "      <td>0.589</td>\n",
              "      <td>0.386</td>\n",
              "      <td>5</td>\n",
              "      <td>-8.013</td>\n",
              "      <td>0</td>\n",
              "      <td>0.0441</td>\n",
              "      <td>0.750</td>\n",
              "      <td>0.000000</td>\n",
              "      <td>0.1500</td>\n",
              "      <td>0.5180</td>\n",
              "      <td>142.371</td>\n",
              "      <td>NaN</td>\n",
              "      <td>127800</td>\n",
              "      <td>4</td>\n",
              "      <td>47xU4Sm1RWZgRgugWPFxzz</td>\n",
              "      <td>https://open.spotify.com/track/47xU4Sm1RWZgRgu...</td>\n",
              "      <td>2</td>\n",
              "      <td>0.095605</td>\n",
              "    </tr>\n",
              "    <tr>\n",
              "      <th>120</th>\n",
              "      <td>Venus - Bonus Track</td>\n",
              "      <td>Frankie Avalon</td>\n",
              "      <td>0.526</td>\n",
              "      <td>0.488</td>\n",
              "      <td>10</td>\n",
              "      <td>-12.645</td>\n",
              "      <td>1</td>\n",
              "      <td>0.0296</td>\n",
              "      <td>0.601</td>\n",
              "      <td>0.000013</td>\n",
              "      <td>0.0940</td>\n",
              "      <td>0.7180</td>\n",
              "      <td>115.194</td>\n",
              "      <td>NaN</td>\n",
              "      <td>141987</td>\n",
              "      <td>4</td>\n",
              "      <td>0qDShcc7oY6M8OFaDXHOZG</td>\n",
              "      <td>https://open.spotify.com/track/0qDShcc7oY6M8OF...</td>\n",
              "      <td>2</td>\n",
              "      <td>0.098455</td>\n",
              "    </tr>\n",
              "    <tr>\n",
              "      <th>878</th>\n",
              "      <td>Two Not One</td>\n",
              "      <td>Lee Konitz</td>\n",
              "      <td>0.624</td>\n",
              "      <td>0.383</td>\n",
              "      <td>8</td>\n",
              "      <td>-10.561</td>\n",
              "      <td>1</td>\n",
              "      <td>0.0633</td>\n",
              "      <td>0.627</td>\n",
              "      <td>0.000005</td>\n",
              "      <td>0.0963</td>\n",
              "      <td>0.6740</td>\n",
              "      <td>117.526</td>\n",
              "      <td>NaN</td>\n",
              "      <td>331267</td>\n",
              "      <td>4</td>\n",
              "      <td>3bYBPyLGsa1unDrVaNzN4y</td>\n",
              "      <td>https://open.spotify.com/track/3bYBPyLGsa1unDr...</td>\n",
              "      <td>2</td>\n",
              "      <td>0.103943</td>\n",
              "    </tr>\n",
              "    <tr>\n",
              "      <th>284</th>\n",
              "      <td>A Horse with No Name</td>\n",
              "      <td>America</td>\n",
              "      <td>0.654</td>\n",
              "      <td>0.506</td>\n",
              "      <td>11</td>\n",
              "      <td>-17.180</td>\n",
              "      <td>0</td>\n",
              "      <td>0.0535</td>\n",
              "      <td>0.686</td>\n",
              "      <td>0.015500</td>\n",
              "      <td>0.1550</td>\n",
              "      <td>0.8310</td>\n",
              "      <td>123.179</td>\n",
              "      <td>NaN</td>\n",
              "      <td>252240</td>\n",
              "      <td>4</td>\n",
              "      <td>54eZmuggBFJbV7k248bTTt</td>\n",
              "      <td>https://open.spotify.com/track/54eZmuggBFJbV7k...</td>\n",
              "      <td>2</td>\n",
              "      <td>0.104580</td>\n",
              "    </tr>\n",
              "    <tr>\n",
              "      <th>361</th>\n",
              "      <td>Someone You Loved</td>\n",
              "      <td>Lewis Capaldi</td>\n",
              "      <td>0.501</td>\n",
              "      <td>0.405</td>\n",
              "      <td>1</td>\n",
              "      <td>-5.679</td>\n",
              "      <td>1</td>\n",
              "      <td>0.0319</td>\n",
              "      <td>0.751</td>\n",
              "      <td>0.000000</td>\n",
              "      <td>0.1050</td>\n",
              "      <td>0.4460</td>\n",
              "      <td>109.891</td>\n",
              "      <td>NaN</td>\n",
              "      <td>182161</td>\n",
              "      <td>4</td>\n",
              "      <td>7qEHsqek33rTcFNT9PFqLf</td>\n",
              "      <td>https://open.spotify.com/track/7qEHsqek33rTcFN...</td>\n",
              "      <td>2</td>\n",
              "      <td>0.104638</td>\n",
              "    </tr>\n",
              "  </tbody>\n",
              "</table>\n",
              "<p>80 rows × 20 columns</p>\n",
              "</div>\n",
              "      <button class=\"colab-df-convert\" onclick=\"convertToInteractive('df-c5ff42e8-0fda-463f-b761-ee63d5258a87')\"\n",
              "              title=\"Convert this dataframe to an interactive table.\"\n",
              "              style=\"display:none;\">\n",
              "        \n",
              "  <svg xmlns=\"http://www.w3.org/2000/svg\" height=\"24px\"viewBox=\"0 0 24 24\"\n",
              "       width=\"24px\">\n",
              "    <path d=\"M0 0h24v24H0V0z\" fill=\"none\"/>\n",
              "    <path d=\"M18.56 5.44l.94 2.06.94-2.06 2.06-.94-2.06-.94-.94-2.06-.94 2.06-2.06.94zm-11 1L8.5 8.5l.94-2.06 2.06-.94-2.06-.94L8.5 2.5l-.94 2.06-2.06.94zm10 10l.94 2.06.94-2.06 2.06-.94-2.06-.94-.94-2.06-.94 2.06-2.06.94z\"/><path d=\"M17.41 7.96l-1.37-1.37c-.4-.4-.92-.59-1.43-.59-.52 0-1.04.2-1.43.59L10.3 9.45l-7.72 7.72c-.78.78-.78 2.05 0 2.83L4 21.41c.39.39.9.59 1.41.59.51 0 1.02-.2 1.41-.59l7.78-7.78 2.81-2.81c.8-.78.8-2.07 0-2.86zM5.41 20L4 18.59l7.72-7.72 1.47 1.35L5.41 20z\"/>\n",
              "  </svg>\n",
              "      </button>\n",
              "      \n",
              "  <style>\n",
              "    .colab-df-container {\n",
              "      display:flex;\n",
              "      flex-wrap:wrap;\n",
              "      gap: 12px;\n",
              "    }\n",
              "\n",
              "    .colab-df-convert {\n",
              "      background-color: #E8F0FE;\n",
              "      border: none;\n",
              "      border-radius: 50%;\n",
              "      cursor: pointer;\n",
              "      display: none;\n",
              "      fill: #1967D2;\n",
              "      height: 32px;\n",
              "      padding: 0 0 0 0;\n",
              "      width: 32px;\n",
              "    }\n",
              "\n",
              "    .colab-df-convert:hover {\n",
              "      background-color: #E2EBFA;\n",
              "      box-shadow: 0px 1px 2px rgba(60, 64, 67, 0.3), 0px 1px 3px 1px rgba(60, 64, 67, 0.15);\n",
              "      fill: #174EA6;\n",
              "    }\n",
              "\n",
              "    [theme=dark] .colab-df-convert {\n",
              "      background-color: #3B4455;\n",
              "      fill: #D2E3FC;\n",
              "    }\n",
              "\n",
              "    [theme=dark] .colab-df-convert:hover {\n",
              "      background-color: #434B5C;\n",
              "      box-shadow: 0px 1px 3px 1px rgba(0, 0, 0, 0.15);\n",
              "      filter: drop-shadow(0px 1px 2px rgba(0, 0, 0, 0.3));\n",
              "      fill: #FFFFFF;\n",
              "    }\n",
              "  </style>\n",
              "\n",
              "      <script>\n",
              "        const buttonEl =\n",
              "          document.querySelector('#df-c5ff42e8-0fda-463f-b761-ee63d5258a87 button.colab-df-convert');\n",
              "        buttonEl.style.display =\n",
              "          google.colab.kernel.accessAllowed ? 'block' : 'none';\n",
              "\n",
              "        async function convertToInteractive(key) {\n",
              "          const element = document.querySelector('#df-c5ff42e8-0fda-463f-b761-ee63d5258a87');\n",
              "          const dataTable =\n",
              "            await google.colab.kernel.invokeFunction('convertToInteractive',\n",
              "                                                     [key], {});\n",
              "          if (!dataTable) return;\n",
              "\n",
              "          const docLinkHtml = 'Like what you see? Visit the ' +\n",
              "            '<a target=\"_blank\" href=https://colab.research.google.com/notebooks/data_table.ipynb>data table notebook</a>'\n",
              "            + ' to learn more about interactive tables.';\n",
              "          element.innerHTML = '';\n",
              "          dataTable['output_type'] = 'display_data';\n",
              "          await google.colab.output.renderOutput(dataTable, element);\n",
              "          const docLink = document.createElement('div');\n",
              "          docLink.innerHTML = docLinkHtml;\n",
              "          element.appendChild(docLink);\n",
              "        }\n",
              "      </script>\n",
              "    </div>\n",
              "  </div>\n",
              "  "
            ]
          },
          "metadata": {},
          "execution_count": 260
        }
      ]
    },
    {
      "cell_type": "code",
      "source": [
        ""
      ],
      "metadata": {
        "id": "UHy15PCS71Fr"
      },
      "execution_count": 260,
      "outputs": []
    },
    {
      "cell_type": "code",
      "source": [
        ""
      ],
      "metadata": {
        "id": "_qy_aOQz5Dz6"
      },
      "execution_count": 260,
      "outputs": []
    },
    {
      "cell_type": "code",
      "source": [
        ""
      ],
      "metadata": {
        "id": "eE7VwfyRTe-e"
      },
      "execution_count": 260,
      "outputs": []
    },
    {
      "cell_type": "code",
      "source": [
        ""
      ],
      "metadata": {
        "id": "CJXRybuJUYDA"
      },
      "execution_count": 260,
      "outputs": []
    },
    {
      "cell_type": "code",
      "source": [
        "fig, ax=plt.subplots(figsize=(4,4))\n",
        "sns.scatterplot(data=songs, x='danceability', y='acousticness', hue='cluster')\n",
        "sns.scatterplot(data=cl_pos, x='danceability', y='acousticness',color='red', s=50)\n"
      ],
      "metadata": {
        "colab": {
          "base_uri": "https://localhost:8080/",
          "height": 316
        },
        "id": "WE5UeOOeTgDa",
        "outputId": "d0ac1a23-1221-4a27-e3aa-180f09138018"
      },
      "execution_count": 261,
      "outputs": [
        {
          "output_type": "execute_result",
          "data": {
            "text/plain": [
              "<matplotlib.axes._subplots.AxesSubplot at 0x7f0cff433e10>"
            ]
          },
          "metadata": {},
          "execution_count": 261
        },
        {
          "output_type": "display_data",
          "data": {
            "text/plain": [
              "<Figure size 288x288 with 1 Axes>"
            ],
            "image/png": "[encoded data removed]"
          },
          "metadata": {
            "needs_background": "light"
          }
        }
      ]
    },
    {
      "cell_type": "code",
      "source": [
        "fig = plt.figure()\n",
        "fig = plt.figure(figsize=(6, 6))\n",
        "ax = plt.axes(projection='3d')\n",
        "# ax.set_xlim(0, 0.8)\n",
        "# ax.set_ylim(0, 0.8)\n",
        "# ax.set_zlim(0, 0.8)\n",
        "\n",
        "d=songs\n",
        "ax.scatter(d['danceability'],d['energy'], d['acousticness'])\n",
        "ax.scatter(cl_pos['danceability'], cl_pos['energy'], cl_pos['acousticness'])\n",
        "\n",
        "ax.set_xlabel('danceability')\n",
        "ax.set_ylabel('acousticness')\n",
        "ax.set_zlabel('energy')"
      ],
      "metadata": {
        "colab": {
          "base_uri": "https://localhost:8080/",
          "height": 411
        },
        "id": "kchG5epIbmoY",
        "outputId": "417b956a-edfb-4146-97b7-e93a190940a2"
      },
      "execution_count": 262,
      "outputs": [
        {
          "output_type": "execute_result",
          "data": {
            "text/plain": [
              "Text(0.5, 0, 'energy')"
            ]
          },
          "metadata": {},
          "execution_count": 262
        },
        {
          "output_type": "display_data",
          "data": {
            "text/plain": [
              "<Figure size 432x288 with 0 Axes>"
            ]
          },
          "metadata": {}
        },
        {
          "output_type": "display_data",
          "data": {
            "text/plain": [
              "<Figure size 432x432 with 1 Axes>"
            ],
            "image/png": "[encoded data removed]"
          },
          "metadata": {
            "needs_background": "light"
          }
        }
      ]
    },
    {
      "cell_type": "code",
      "source": [
        ""
      ],
      "metadata": {
        "id": "4AUFhaR6kUIP"
      },
      "execution_count": null,
      "outputs": []
    },
    {
      "cell_type": "code",
      "source": [
        "cols=['danceability', 'energy', 'key', 'loudness', 'mode', 'speechiness', 'acousticness', 'instrumentalness', 'liveness', 'valence', 'tempo', 'duration_ms']\n"
      ],
      "metadata": {
        "id": "pRT_jiBgkBDr"
      },
      "execution_count": 274,
      "outputs": []
    },
    {
      "cell_type": "code",
      "source": [
        "data_set_1000=moosic[cols]"
      ],
      "metadata": {
        "id": "s_pFx-VFjdYr"
      },
      "execution_count": 275,
      "outputs": []
    },
    {
      "cell_type": "code",
      "source": [
        "data_set_1000.head(3)"
      ],
      "metadata": {
        "colab": {
          "base_uri": "https://localhost:8080/",
          "height": 205
        },
        "id": "6Y06Ri51j465",
        "outputId": "f7f547eb-f892-4187-82e0-386ff9988fe4"
      },
      "execution_count": 277,
      "outputs": [
        {
          "output_type": "execute_result",
          "data": {
            "text/plain": [
              "   danceability  energy  key  loudness  mode  speechiness  acousticness  \\\n",
              "0         0.624   0.468   10   -12.162     1       0.1320         0.881   \n",
              "1         0.585   0.247    1   -12.612     1       0.0400         0.452   \n",
              "2         0.290   0.227    3   -13.060     1       0.0311         0.944   \n",
              "\n",
              "   instrumentalness  liveness  valence    tempo  duration_ms  \n",
              "0          0.000006     0.144    0.952   74.139       117080  \n",
              "1          0.000009     0.107    0.591  127.150       223760  \n",
              "2          0.000079     0.617    0.224  114.278       157293  "
            ],
            "text/html": [
              "\n",
              "  <div id=\"df-dcc907c7-0c71-4798-94ae-0eecb453b2a1\">\n",
              "    <div class=\"colab-df-container\">\n",
              "      <div>\n",
              "<style scoped>\n",
              "    .dataframe tbody tr th:only-of-type {\n",
              "        vertical-align: middle;\n",
              "    }\n",
              "\n",
              "    .dataframe tbody tr th {\n",
              "        vertical-align: top;\n",
              "    }\n",
              "\n",
              "    .dataframe thead th {\n",
              "        text-align: right;\n",
              "    }\n",
              "</style>\n",
              "<table border=\"1\" class=\"dataframe\">\n",
              "  <thead>\n",
              "    <tr style=\"text-align: right;\">\n",
              "      <th></th>\n",
              "      <th>danceability</th>\n",
              "      <th>energy</th>\n",
              "      <th>key</th>\n",
              "      <th>loudness</th>\n",
              "      <th>mode</th>\n",
              "      <th>speechiness</th>\n",
              "      <th>acousticness</th>\n",
              "      <th>instrumentalness</th>\n",
              "      <th>liveness</th>\n",
              "      <th>valence</th>\n",
              "      <th>tempo</th>\n",
              "      <th>duration_ms</th>\n",
              "    </tr>\n",
              "  </thead>\n",
              "  <tbody>\n",
              "    <tr>\n",
              "      <th>0</th>\n",
              "      <td>0.624</td>\n",
              "      <td>0.468</td>\n",
              "      <td>10</td>\n",
              "      <td>-12.162</td>\n",
              "      <td>1</td>\n",
              "      <td>0.1320</td>\n",
              "      <td>0.881</td>\n",
              "      <td>0.000006</td>\n",
              "      <td>0.144</td>\n",
              "      <td>0.952</td>\n",
              "      <td>74.139</td>\n",
              "      <td>117080</td>\n",
              "    </tr>\n",
              "    <tr>\n",
              "      <th>1</th>\n",
              "      <td>0.585</td>\n",
              "      <td>0.247</td>\n",
              "      <td>1</td>\n",
              "      <td>-12.612</td>\n",
              "      <td>1</td>\n",
              "      <td>0.0400</td>\n",
              "      <td>0.452</td>\n",
              "      <td>0.000009</td>\n",
              "      <td>0.107</td>\n",
              "      <td>0.591</td>\n",
              "      <td>127.150</td>\n",
              "      <td>223760</td>\n",
              "    </tr>\n",
              "    <tr>\n",
              "      <th>2</th>\n",
              "      <td>0.290</td>\n",
              "      <td>0.227</td>\n",
              "      <td>3</td>\n",
              "      <td>-13.060</td>\n",
              "      <td>1</td>\n",
              "      <td>0.0311</td>\n",
              "      <td>0.944</td>\n",
              "      <td>0.000079</td>\n",
              "      <td>0.617</td>\n",
              "      <td>0.224</td>\n",
              "      <td>114.278</td>\n",
              "      <td>157293</td>\n",
              "    </tr>\n",
              "  </tbody>\n",
              "</table>\n",
              "</div>\n",
              "      <button class=\"colab-df-convert\" onclick=\"convertToInteractive('df-dcc907c7-0c71-4798-94ae-0eecb453b2a1')\"\n",
              "              title=\"Convert this dataframe to an interactive table.\"\n",
              "              style=\"display:none;\">\n",
              "        \n",
              "  <svg xmlns=\"http://www.w3.org/2000/svg\" height=\"24px\"viewBox=\"0 0 24 24\"\n",
              "       width=\"24px\">\n",
              "    <path d=\"M0 0h24v24H0V0z\" fill=\"none\"/>\n",
              "    <path d=\"M18.56 5.44l.94 2.06.94-2.06 2.06-.94-2.06-.94-.94-2.06-.94 2.06-2.06.94zm-11 1L8.5 8.5l.94-2.06 2.06-.94-2.06-.94L8.5 2.5l-.94 2.06-2.06.94zm10 10l.94 2.06.94-2.06 2.06-.94-2.06-.94-.94-2.06-.94 2.06-2.06.94z\"/><path d=\"M17.41 7.96l-1.37-1.37c-.4-.4-.92-.59-1.43-.59-.52 0-1.04.2-1.43.59L10.3 9.45l-7.72 7.72c-.78.78-.78 2.05 0 2.83L4 21.41c.39.39.9.59 1.41.59.51 0 1.02-.2 1.41-.59l7.78-7.78 2.81-2.81c.8-.78.8-2.07 0-2.86zM5.41 20L4 18.59l7.72-7.72 1.47 1.35L5.41 20z\"/>\n",
              "  </svg>\n",
              "      </button>\n",
              "      \n",
              "  <style>\n",
              "    .colab-df-container {\n",
              "      display:flex;\n",
              "      flex-wrap:wrap;\n",
              "      gap: 12px;\n",
              "    }\n",
              "\n",
              "    .colab-df-convert {\n",
              "      background-color: #E8F0FE;\n",
              "      border: none;\n",
              "      border-radius: 50%;\n",
              "      cursor: pointer;\n",
              "      display: none;\n",
              "      fill: #1967D2;\n",
              "      height: 32px;\n",
              "      padding: 0 0 0 0;\n",
              "      width: 32px;\n",
              "    }\n",
              "\n",
              "    .colab-df-convert:hover {\n",
              "      background-color: #E2EBFA;\n",
              "      box-shadow: 0px 1px 2px rgba(60, 64, 67, 0.3), 0px 1px 3px 1px rgba(60, 64, 67, 0.15);\n",
              "      fill: #174EA6;\n",
              "    }\n",
              "\n",
              "    [theme=dark] .colab-df-convert {\n",
              "      background-color: #3B4455;\n",
              "      fill: #D2E3FC;\n",
              "    }\n",
              "\n",
              "    [theme=dark] .colab-df-convert:hover {\n",
              "      background-color: #434B5C;\n",
              "      box-shadow: 0px 1px 3px 1px rgba(0, 0, 0, 0.15);\n",
              "      filter: drop-shadow(0px 1px 2px rgba(0, 0, 0, 0.3));\n",
              "      fill: #FFFFFF;\n",
              "    }\n",
              "  </style>\n",
              "\n",
              "      <script>\n",
              "        const buttonEl =\n",
              "          document.querySelector('#df-dcc907c7-0c71-4798-94ae-0eecb453b2a1 button.colab-df-convert');\n",
              "        buttonEl.style.display =\n",
              "          google.colab.kernel.accessAllowed ? 'block' : 'none';\n",
              "\n",
              "        async function convertToInteractive(key) {\n",
              "          const element = document.querySelector('#df-dcc907c7-0c71-4798-94ae-0eecb453b2a1');\n",
              "          const dataTable =\n",
              "            await google.colab.kernel.invokeFunction('convertToInteractive',\n",
              "                                                     [key], {});\n",
              "          if (!dataTable) return;\n",
              "\n",
              "          const docLinkHtml = 'Like what you see? Visit the ' +\n",
              "            '<a target=\"_blank\" href=https://colab.research.google.com/notebooks/data_table.ipynb>data table notebook</a>'\n",
              "            + ' to learn more about interactive tables.';\n",
              "          element.innerHTML = '';\n",
              "          dataTable['output_type'] = 'display_data';\n",
              "          await google.colab.output.renderOutput(dataTable, element);\n",
              "          const docLink = document.createElement('div');\n",
              "          docLink.innerHTML = docLinkHtml;\n",
              "          element.appendChild(docLink);\n",
              "        }\n",
              "      </script>\n",
              "    </div>\n",
              "  </div>\n",
              "  "
            ]
          },
          "metadata": {},
          "execution_count": 277
        }
      ]
    },
    {
      "cell_type": "code",
      "source": [
        "\n",
        "from math import pi"
      ],
      "metadata": {
        "id": "TfiEF4TEj1VF"
      },
      "execution_count": 279,
      "outputs": []
    },
    {
      "cell_type": "code",
      "source": [
        "peng_cl_norm = MinMaxScaler().fit_transform(data_set_1000)\n",
        "# Based on the quick look to the scatter plot, \n",
        "# we are going to assume there can be 3 different species.\n",
        "kmeans = KMeans(n_clusters=6)\n",
        "kmeans.fit(peng_cl_norm)\n",
        "\n",
        "kmeans.cluster_centers_\n",
        "\n",
        "cl_pos = pd.DataFrame(kmeans.cluster_centers_)\n",
        "cl_pos.columns = ['danceability', 'energy', 'key', 'loudness', 'mode', 'speechiness', 'acousticness', 'instrumentalness', 'liveness', 'valence', 'tempo', 'duration_ms']\n",
        "#cl_pos.columns = ['danceability', 'energy', 'key', 'loudness', 'mode', 'acousticness', 'instrumentalness', 'valence', 'tempo']\n",
        "#cl_pos.columns = ['danceability', 'energy','loudness', 'speechiness', 'acousticness', 'instrumentalness', 'valence', 'tempo']\n",
        "cl_pos\n",
        "# Set data\n",
        "radar_df = cl_pos.reset_index().rename(columns={'index':'cluster'})\n",
        " \n",
        "# ------- PART 1: Create background\n",
        " \n",
        "# number of variable\n",
        "categories= radar_df.columns.tolist()[1:]\n",
        "# list(df)[1:]\n",
        "N = len(categories)\n",
        " \n",
        "# What will be the angle of each axis in the plot? (we divide the plot / number of variable)\n",
        "angles = [n / float(N) * 2 * pi for n in range(N)]\n",
        "angles += angles[:1]\n",
        " \n",
        "# Initialise the spider plot\n",
        "ax = plt.subplot(111, polar=True)\n",
        " \n",
        "# If you want the first axis to be on top:\n",
        "ax.set_theta_offset(pi / 2)\n",
        "ax.set_theta_direction(-1)\n",
        " \n",
        "# Draw one axe per variable + add labels\n",
        "plt.xticks(angles[:-1], categories)\n",
        " \n",
        "# Draw ylabels\n",
        "ax.set_rlabel_position(0)\n",
        "plt.yticks(ticks=None, labels=None)\n",
        "# plt.ylim(0,40)\n",
        " \n",
        "\n",
        "# ------- PART 2: Add plots\n",
        " \n",
        "# Plot each individual = each line of the data\n",
        "# I don't make a loop, because plotting more than 3 groups makes the chart unreadable\n",
        "\n",
        "# Ind1\n",
        "values=radar_df.loc[0].drop('cluster').values.flatten().tolist()\n",
        "values += values[:1]\n",
        "ax.plot(angles, values, linewidth=1, linestyle=None, label=\"Cluster 0\")\n",
        "ax.fill(angles, values, 'b', alpha=0.1)\n",
        "\n",
        "# Ind2\n",
        "values=radar_df.loc[1].drop('cluster').values.flatten().tolist()\n",
        "values += values[:1]\n",
        "ax.plot(angles, values, linewidth=1, linestyle=None, label=\"Cluster 1\")\n",
        "ax.fill(angles, values, 'r', alpha=0.1)\n",
        "\n",
        "# Ind3\n",
        "values=radar_df.loc[2].drop('cluster').values.flatten().tolist()\n",
        "values += values[:1]\n",
        "ax.plot(angles, values, linewidth=1, linestyle=None, label=\"Cluster 2\")\n",
        "ax.fill(angles, values, 'b', alpha=0.1)\n",
        "\n",
        "# Ind4\n",
        "values=radar_df.loc[3].drop('cluster').values.flatten().tolist()\n",
        "values += values[:1]\n",
        "ax.plot(angles, values, linewidth=1, linestyle=None, label=\"Cluster 3\")\n",
        "ax.fill(angles, values, 'yellow', alpha=0.1)\n",
        "\n",
        "# Ind5\n",
        "values=radar_df.loc[4].drop('cluster').values.flatten().tolist()\n",
        "values += values[:1]\n",
        "ax.plot(angles, values, linewidth=1, linestyle=None, label=\"Cluster 4\")\n",
        "ax.fill(angles, values, 'black', alpha=0.1)\n",
        "# Ind6\n",
        "values=radar_df.loc[5].drop('cluster').values.flatten().tolist()\n",
        "values += values[:1]\n",
        "ax.plot(angles, values, linewidth=1, linestyle=None, label=\"Cluster 5\")\n",
        "ax.fill(angles, values, 'black', alpha=0.1)\n",
        "\n",
        "# Ind7\n",
        "#values=radar_df.loc[6].drop('cluster').values.flatten().tolist()\n",
        "#values += values[:1]\n",
        "#ax.plot(angles, values, linewidth=1, linestyle=None, label=\"Cluster 6\")\n",
        "#ax.fill(angles, values, 'cyan', alpha=0.1)\n",
        "# Add legend\n",
        "plt.legend(loc='upper right', bbox_to_anchor=(0.1, 0.1))\n",
        "\n",
        "# Show the graph\n",
        "plt.show()"
      ],
      "metadata": {
        "id": "svuKFFvtPOdm",
        "colab": {
          "base_uri": "https://localhost:8080/",
          "height": 365
        },
        "outputId": "c6c007cf-8f55-488a-9c26-fc8519f5e3e6"
      },
      "execution_count": 280,
      "outputs": [
        {
          "output_type": "display_data",
          "data": {
            "text/plain": [
              "<Figure size 432x288 with 1 Axes>"
            ],
            "image/png": "[encoded data removed]"
          },
          "metadata": {
            "needs_background": "light"
          }
        }
      ]
    },
    {
      "cell_type": "code",
      "source": [
        ""
      ],
      "metadata": {
        "id": "QhW5lQQfWiJS"
      },
      "execution_count": 262,
      "outputs": []
    },
    {
      "cell_type": "code",
      "source": [
        ""
      ],
      "metadata": {
        "id": "KzEWBJPwWiCL"
      },
      "execution_count": 262,
      "outputs": []
    },
    {
      "cell_type": "code",
      "source": [
        ""
      ],
      "metadata": {
        "id": "plvRm2hJT4HR"
      },
      "execution_count": 262,
      "outputs": []
    },
    {
      "cell_type": "code",
      "source": [
        ""
      ],
      "metadata": {
        "id": "yQP6vnrQUvMs"
      },
      "execution_count": 262,
      "outputs": []
    }
  ]
}